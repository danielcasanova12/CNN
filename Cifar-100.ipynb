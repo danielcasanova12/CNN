{
 "cells": [
  {
   "cell_type": "markdown",
   "metadata": {},
   "source": [
    "# Instalando as libs"
   ]
  },
  {
   "cell_type": "code",
   "execution_count": 5,
   "metadata": {},
   "outputs": [
    {
     "name": "stdout",
     "output_type": "stream",
     "text": [
      "Requirement already satisfied: pandas in f:\\git\\cnn\\myenv\\lib\\site-packages (2.2.2)\n",
      "Requirement already satisfied: numpy>=1.23.2 in f:\\git\\cnn\\myenv\\lib\\site-packages (from pandas) (1.26.4)\n",
      "Requirement already satisfied: python-dateutil>=2.8.2 in f:\\git\\cnn\\myenv\\lib\\site-packages (from pandas) (2.9.0.post0)\n",
      "Requirement already satisfied: pytz>=2020.1 in f:\\git\\cnn\\myenv\\lib\\site-packages (from pandas) (2024.1)\n",
      "Requirement already satisfied: tzdata>=2022.7 in f:\\git\\cnn\\myenv\\lib\\site-packages (from pandas) (2024.1)\n",
      "Requirement already satisfied: six>=1.5 in f:\\git\\cnn\\myenv\\lib\\site-packages (from python-dateutil>=2.8.2->pandas) (1.16.0)\n",
      "Note: you may need to restart the kernel to use updated packages.\n",
      "Requirement already satisfied: numpy in f:\\git\\cnn\\myenv\\lib\\site-packages (1.26.4)\n",
      "Note: you may need to restart the kernel to use updated packages.\n",
      "Requirement already satisfied: keras in f:\\git\\cnn\\myenv\\lib\\site-packages (3.4.1)\n",
      "Requirement already satisfied: absl-py in f:\\git\\cnn\\myenv\\lib\\site-packages (from keras) (2.1.0)\n",
      "Requirement already satisfied: numpy in f:\\git\\cnn\\myenv\\lib\\site-packages (from keras) (1.26.4)\n",
      "Requirement already satisfied: rich in f:\\git\\cnn\\myenv\\lib\\site-packages (from keras) (13.7.1)\n",
      "Requirement already satisfied: namex in f:\\git\\cnn\\myenv\\lib\\site-packages (from keras) (0.0.8)\n",
      "Requirement already satisfied: h5py in f:\\git\\cnn\\myenv\\lib\\site-packages (from keras) (3.11.0)\n",
      "Requirement already satisfied: optree in f:\\git\\cnn\\myenv\\lib\\site-packages (from keras) (0.12.1)\n",
      "Requirement already satisfied: ml-dtypes in f:\\git\\cnn\\myenv\\lib\\site-packages (from keras) (0.3.2)\n",
      "Requirement already satisfied: packaging in f:\\git\\cnn\\myenv\\lib\\site-packages (from keras) (24.1)\n",
      "Requirement already satisfied: typing-extensions>=4.5.0 in f:\\git\\cnn\\myenv\\lib\\site-packages (from optree->keras) (4.12.2)\n",
      "Requirement already satisfied: markdown-it-py>=2.2.0 in f:\\git\\cnn\\myenv\\lib\\site-packages (from rich->keras) (3.0.0)\n",
      "Requirement already satisfied: pygments<3.0.0,>=2.13.0 in f:\\git\\cnn\\myenv\\lib\\site-packages (from rich->keras) (2.18.0)\n",
      "Requirement already satisfied: mdurl~=0.1 in f:\\git\\cnn\\myenv\\lib\\site-packages (from markdown-it-py>=2.2.0->rich->keras) (0.1.2)\n",
      "Note: you may need to restart the kernel to use updated packages.\n"
     ]
    }
   ],
   "source": [
    "%pip install pandas\n",
    "%pip install numpy\n",
    "%pip install keras"
   ]
  },
  {
   "cell_type": "code",
   "execution_count": 6,
   "metadata": {},
   "outputs": [],
   "source": [
    "import numpy as np\n",
    "from keras.layers import Input, Conv2D, Dense, Flatten, Dropout, MaxPooling2D, BatchNormalization\n",
    "from keras.models import Model\n",
    "from keras.datasets import cifar100\n",
    "from tensorflow.keras.preprocessing.image import ImageDataGenerator"
   ]
  },
  {
   "cell_type": "markdown",
   "metadata": {},
   "source": []
  },
  {
   "cell_type": "code",
   "execution_count": 7,
   "metadata": {},
   "outputs": [
    {
     "name": "stdout",
     "output_type": "stream",
     "text": [
      "(50000, 32, 32, 3)\n",
      "(50000,)\n"
     ]
    }
   ],
   "source": [
    "# Carregando o conjunto de dados CIFAR-100\n",
    "(X_train, y_train), (X_test, y_test) = cifar100.load_data()\n",
    "\n",
    "# Normalizando os valores dos pixels das imagens para o intervalo [0, 1]\n",
    "X_train, X_test = X_train / 255, X_test / 255\n",
    "\n",
    "# Achatar os rótulos para vetores unidimensionais\n",
    "y_train, y_test = y_train.flatten(), y_test.flatten()\n",
    "\n",
    "# Imprimindo as formas dos conjuntos de dados de treinamento e teste\n",
    "print(X_train.shape)\n",
    "print(y_train.shape)"
   ]
  },
  {
   "cell_type": "code",
   "execution_count": 8,
   "metadata": {},
   "outputs": [],
   "source": [
    "# Determinando o número de classes no conjunto de dados de treinamento\n",
    "k = len(set(y_train))\n",
    "k\n",
    "\n",
    "# Configurando o ImageDataGenerator para augmentação de dados\n",
    "datagen = ImageDataGenerator(\n",
    "    rotation_range=15,              # Rotaciona as imagens aleatoriamente até 15 graus\n",
    "    width_shift_range=0.1,          # Desloca as imagens horizontalmente até 10% da largura\n",
    "    height_shift_range=0.1,         # Desloca as imagens verticalmente até 10% da altura\n",
    "    shear_range=0.1,                # Aplica cisalhamento (shear) nas imagens até 10%\n",
    "    zoom_range=0.1                  # Aplica zoom nas imagens até 10%\n",
    ")\n",
    "\n",
    "# Ajusta o ImageDataGenerator aos dados de treinamento\n",
    "datagen.fit(X_train)\n"
   ]
  },
  {
   "cell_type": "code",
   "execution_count": 9,
   "metadata": {},
   "outputs": [],
   "source": [
    "# Definindo a entrada do modelo com a forma das imagens\n",
    "i = Input(shape=X_train[0].shape)\n",
    "\n",
    "# Primeira camada convolucional\n",
    "x = Conv2D(32, (3, 3), activation='relu', padding='same')(i)\n",
    "x = BatchNormalization()(x)  # Normalização em lote após a convolução\n",
    "x = Conv2D(32, (3, 3), activation='relu', padding='same')(x)\n",
    "x = BatchNormalization()(x)  # Normalização em lote após a segunda convolução\n",
    "x = MaxPooling2D((2, 2))(x)  # Reduz a dimensão espacial com max pooling\n",
    "\n",
    "# Segunda camada convolucional\n",
    "x = Conv2D(64, (3, 3), activation='relu', padding='same')(x)\n",
    "x = BatchNormalization()(x)  # Normalização em lote\n",
    "x = Conv2D(64, (3, 3), activation='relu', padding='same')(x)\n",
    "x = BatchNormalization()(x)  # Normalização em lote\n",
    "x = MaxPooling2D((2, 2))(x)  # Reduz a dimensão espacial\n",
    "\n",
    "# Terceira camada convolucional\n",
    "x = Conv2D(128, (3, 3), activation='relu', padding='same')(x)\n",
    "x = BatchNormalization()(x)  # Normalização em lote\n",
    "x = Conv2D(128, (3, 3), activation='relu', padding='same')(x)\n",
    "x = BatchNormalization()(x)  # Normalização em lote\n",
    "x = MaxPooling2D((2, 2))(x)  # Reduz a dimensão espacial\n",
    "\n",
    "# Camadas densas e de dropout\n",
    "x = Flatten()(x)  # Achata a saída das camadas convolucionais para camadas densas\n",
    "x = Dropout(0.15)(x)  # Adiciona dropout para regularização\n",
    "x = Dense(1024, activation='relu')(x)  # Camada densa com 1024 neurônios e ativação ReLU\n",
    "x = Dropout(0.15)(x)  # Adiciona dropout para regularização\n",
    "x = Dense(k, activation='softmax')(x)  # Camada de saída com k neurônios (uma para cada classe) e ativação softmax\n",
    "\n",
    "# Criação do modelo com a entrada e a camada de saída\n",
    "model = Model(i, x)"
   ]
  },
  {
   "cell_type": "code",
   "execution_count": 10,
   "metadata": {},
   "outputs": [
    {
     "name": "stdout",
     "output_type": "stream",
     "text": [
      "Epoch 1/8\n",
      "\u001b[1m1563/1563\u001b[0m \u001b[32m━━━━━━━━━━━━━━━━━━━━\u001b[0m\u001b[37m\u001b[0m \u001b[1m86s\u001b[0m 51ms/step - accuracy: 0.1190 - loss: 4.0191 - val_accuracy: 0.2514 - val_loss: 3.1466\n",
      "Epoch 2/8\n",
      "\u001b[1m1563/1563\u001b[0m \u001b[32m━━━━━━━━━━━━━━━━━━━━\u001b[0m\u001b[37m\u001b[0m \u001b[1m93s\u001b[0m 60ms/step - accuracy: 0.3105 - loss: 2.7146 - val_accuracy: 0.2806 - val_loss: 2.9958\n",
      "Epoch 3/8\n",
      "\u001b[1m1563/1563\u001b[0m \u001b[32m━━━━━━━━━━━━━━━━━━━━\u001b[0m\u001b[37m\u001b[0m \u001b[1m98s\u001b[0m 63ms/step - accuracy: 0.4106 - loss: 2.2383 - val_accuracy: 0.4234 - val_loss: 2.1771\n",
      "Epoch 4/8\n",
      "\u001b[1m1563/1563\u001b[0m \u001b[32m━━━━━━━━━━━━━━━━━━━━\u001b[0m\u001b[37m\u001b[0m \u001b[1m89s\u001b[0m 57ms/step - accuracy: 0.4822 - loss: 1.9033 - val_accuracy: 0.4643 - val_loss: 2.0071\n",
      "Epoch 5/8\n",
      "\u001b[1m1563/1563\u001b[0m \u001b[32m━━━━━━━━━━━━━━━━━━━━\u001b[0m\u001b[37m\u001b[0m \u001b[1m87s\u001b[0m 56ms/step - accuracy: 0.5404 - loss: 1.6445 - val_accuracy: 0.4289 - val_loss: 2.2520\n",
      "Epoch 6/8\n",
      "\u001b[1m1563/1563\u001b[0m \u001b[32m━━━━━━━━━━━━━━━━━━━━\u001b[0m\u001b[37m\u001b[0m \u001b[1m85s\u001b[0m 54ms/step - accuracy: 0.6012 - loss: 1.4040 - val_accuracy: 0.4848 - val_loss: 2.0136\n",
      "Epoch 7/8\n",
      "\u001b[1m1563/1563\u001b[0m \u001b[32m━━━━━━━━━━━━━━━━━━━━\u001b[0m\u001b[37m\u001b[0m \u001b[1m86s\u001b[0m 55ms/step - accuracy: 0.6605 - loss: 1.1565 - val_accuracy: 0.4777 - val_loss: 2.0978\n",
      "Epoch 8/8\n",
      "\u001b[1m1563/1563\u001b[0m \u001b[32m━━━━━━━━━━━━━━━━━━━━\u001b[0m\u001b[37m\u001b[0m \u001b[1m86s\u001b[0m 55ms/step - accuracy: 0.7236 - loss: 0.9238 - val_accuracy: 0.5056 - val_loss: 2.0644\n"
     ]
    }
   ],
   "source": [
    "# Compilando o modelo com o otimizador Adam e a função de perda sparse_categorical_crossentropy\n",
    "model.compile(optimizer='adam',\n",
    "              loss='sparse_categorical_crossentropy',\n",
    "              metrics=['accuracy'])\n",
    "\n",
    "# Treinando o modelo com os dados de treinamento e validação por 8 épocas\n",
    "r = model.fit(X_train, y_train, validation_data=(X_test, y_test), epochs=8)"
   ]
  },
  {
   "cell_type": "code",
   "execution_count": 11,
   "metadata": {},
   "outputs": [
    {
     "data": {
      "image/png": "[encoded data removed]",
      "text/plain": [
       "<Figure size 640x480 with 1 Axes>"
      ]
     },
     "metadata": {},
     "output_type": "display_data"
    }
   ],
   "source": [
    "\n",
    "# Importando matplotlib para visualização\n",
    "import matplotlib.pyplot as plt\n",
    "\n",
    "# Plotando a acurácia de treinamento e validação ao longo das épocas\n",
    "plt.plot(r.history['accuracy'], label='acc')\n",
    "plt.plot(r.history['val_accuracy'], label='val_acc')\n",
    "plt.legend()\n",
    "plt.show()\n"
   ]
  },
  {
   "cell_type": "code",
   "execution_count": 12,
   "metadata": {},
   "outputs": [
    {
     "name": "stdout",
     "output_type": "stream",
     "text": [
      "\u001b[1m1/1\u001b[0m \u001b[32m━━━━━━━━━━━━━━━━━━━━\u001b[0m\u001b[37m\u001b[0m \u001b[1m0s\u001b[0m 220ms/step\n",
      "[7]\n"
     ]
    },
    {
     "data": {
      "image/png": "[encoded data removed]",
      "text/plain": [
       "<Figure size 640x480 with 1 Axes>"
      ]
     },
     "metadata": {},
     "output_type": "display_data"
    }
   ],
   "source": [
    "\n",
    "# Importando array_to_img do keras para conversão de arrays para imagens\n",
    "from keras.preprocessing.image import array_to_img\n",
    "\n",
    "# Selecionando uma imagem de teste do conjunto de dados de treinamento\n",
    "test = (X_train[2534])\n",
    "\n",
    "# Prevendo a classe da imagem selecionada e exibindo a classe prevista\n",
    "print(np.argmax(model.predict(test.reshape(1, 32, 32, 3)), axis=1))\n",
    "\n",
    "# Convertendo o array da imagem para uma imagem e exibindo-a\n",
    "img = array_to_img(test)\n",
    "plt.imshow(img)\n",
    "plt.show()"
   ]
  },
  {
   "cell_type": "code",
   "execution_count": null,
   "metadata": {},
   "outputs": [],
   "source": []
  }
 ],
 "metadata": {
  "kernelspec": {
   "display_name": "myenv",
   "language": "python",
   "name": "python3"
  },
  "language_info": {
   "codemirror_mode": {
    "name": "ipython",
    "version": 3
   },
   "file_extension": ".py",
   "mimetype": "text/x-python",
   "name": "python",
   "nbconvert_exporter": "python",
   "pygments_lexer": "ipython3",
   "version": "3.11.6"
  }
 },
 "nbformat": 4,
 "nbformat_minor": 2
}
